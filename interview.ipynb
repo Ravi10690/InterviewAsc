{
 "cells": [
  {
   "cell_type": "code",
   "execution_count": null,
   "id": "a9d5e47d",
   "metadata": {},
   "outputs": [
    {
     "name": "stdout",
     "output_type": "stream",
     "text": [
      "[1, 2, 3, 4, 5]\n",
      "[16, 17, 18, 19, 6]\n",
      "[15, 24, 25, 20, 7]\n",
      "[14, 23, 22, 21, 8]\n",
      "[13, 12, 11, 10, 9]\n"
     ]
    }
   ],
   "source": [
    "from typing import List\n",
    "def make_spiral(n:int) -> List:\n",
    "    \"filling the matix with sqare if integer in spiral order\"\n",
    "    left = 0\n",
    "    right = n-1\n",
    "    top = 0\n",
    "    bottom = n-1\n",
    "    matrix=[[0]*n for _ in range(n)]\n",
    "\n",
    "    num = 1\n",
    "    while left <= right and top <= bottom:\n",
    "        if top<=bottom:\n",
    "            for pos in range(left, right+1):\n",
    "                matrix[top][pos] =  num\n",
    "                num += 1\n",
    "            top +=1\n",
    "\n",
    "        if left <= right:\n",
    "            for pos in range(top, bottom +1):\n",
    "                matrix[pos][right] = num\n",
    "                num+=1\n",
    "            right-=1\n",
    "        \n",
    "        if top <=bottom:\n",
    "            for pos in range(right, left-1,-1):\n",
    "                matrix[bottom][pos] = num\n",
    "                num+=1\n",
    "            bottom-=1\n",
    "\n",
    "        if left <= right:\n",
    "            for pos in range(bottom, pos,-1):\n",
    "                matrix[pos][left] = num\n",
    "                num+=1\n",
    "            left+=1\n",
    "    return matrix\n",
    "\n",
    "\n",
    "# make_spiral(4)\n",
    "for i in make_spiral(5):\n",
    "    print(i)\n"
   ]
  },
  {
   "cell_type": "code",
   "execution_count": null,
   "metadata": {},
   "outputs": [],
   "source": []
  },
  {
   "cell_type": "code",
   "execution_count": null,
   "metadata": {},
   "outputs": [],
   "source": []
  },
  {
   "cell_type": "code",
   "execution_count": null,
   "metadata": {},
   "outputs": [],
   "source": []
  },
  {
   "cell_type": "code",
   "execution_count": null,
   "metadata": {},
   "outputs": [],
   "source": []
  },
  {
   "cell_type": "code",
   "execution_count": null,
   "metadata": {},
   "outputs": [],
   "source": []
  },
  {
   "cell_type": "code",
   "execution_count": null,
   "id": "6fc68c2c",
   "metadata": {},
   "outputs": [],
   "source": []
  },
  {
   "cell_type": "code",
   "execution_count": null,
   "id": "38caa432",
   "metadata": {},
   "outputs": [],
   "source": []
  },
  {
   "cell_type": "code",
   "execution_count": null,
   "id": "ffd9c690",
   "metadata": {},
   "outputs": [],
   "source": []
  },
  {
   "cell_type": "code",
   "execution_count": null,
   "id": "d35d1f11",
   "metadata": {},
   "outputs": [],
   "source": []
  },
  {
   "cell_type": "code",
   "execution_count": null,
   "metadata": {},
   "outputs": [],
   "source": []
  }
 ],
 "metadata": {
  "kernelspec": {
   "display_name": ".venv",
   "language": "python",
   "name": "python3"
  },
  "language_info": {
   "codemirror_mode": {
    "name": "ipython",
    "version": 3
   },
   "file_extension": ".py",
   "mimetype": "text/x-python",
   "name": "python",
   "nbconvert_exporter": "python",
   "pygments_lexer": "ipython3",
   "version": "3.13.2"
  }
 },
 "nbformat": 4,
 "nbformat_minor": 5
}
